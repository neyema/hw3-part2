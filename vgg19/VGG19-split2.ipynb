{
  "cells": [
    {
      "cell_type": "code",
      "execution_count": 1,
      "metadata": {
        "id": "lWPw984Ixhm_"
      },
      "outputs": [],
      "source": [
        "import cv2\n",
        "import numpy as np\n",
        "from matplotlib import pyplot\n",
        "import pickle as pkl\n",
        "from tensorflow import keras\n",
        "from keras import Model\n",
        "from keras.layers import Dense, Flatten\n",
        "from keras.callbacks import EarlyStopping, Callback"
      ]
    },
    {
      "cell_type": "code",
      "source": [
        "from google.colab import drive\n",
        "drive.mount('/content/drive')"
      ],
      "metadata": {
        "id": "XBrll-oQqryN",
        "colab": {
          "base_uri": "https://localhost:8080/"
        },
        "outputId": "12157140-0c33-4d9d-d14b-95698fdd9e6b"
      },
      "execution_count": 2,
      "outputs": [
        {
          "output_type": "stream",
          "name": "stdout",
          "text": [
            "Drive already mounted at /content/drive; to attempt to forcibly remount, call drive.mount(\"/content/drive\", force_remount=True).\n"
          ]
        }
      ]
    },
    {
      "cell_type": "markdown",
      "metadata": {
        "collapsed": false,
        "id": "I-7iIPcZxhnF"
      },
      "source": [
        "# Images Generators"
      ]
    },
    {
      "cell_type": "code",
      "source": [
        "!cp /content/drive/MyDrive/102flowers/data2.zip /content/data2.zip"
      ],
      "metadata": {
        "id": "_2JsUzxozsEJ"
      },
      "execution_count": 92,
      "outputs": []
    },
    {
      "cell_type": "code",
      "source": [
        "!unzip /content/data2.zip"
      ],
      "metadata": {
        "id": "sqDXbbj7vH7K"
      },
      "execution_count": null,
      "outputs": []
    },
    {
      "cell_type": "code",
      "source": [
        "with open(\"/content/drive/MyDrive/102flowers/pkl-2/X_train.pkl\", \"rb\") as f:\n",
        "  X_train = pkl.load(f)\n",
        "with open(\"/content/drive/MyDrive/102flowers/pkl-2/y_train.pkl\", \"rb\") as f:\n",
        "  y_train = pkl.load(f)\n",
        "\n",
        "train_imgs = []\n",
        "for i, path in enumerate(X_train):\n",
        "  img = path.split('\\\\')[-1]\n",
        "  train_imgs.append(f\"/content/train/{y_train[i]}/{img}\")"
      ],
      "metadata": {
        "id": "1Bc6X5xalH8l"
      },
      "execution_count": 119,
      "outputs": []
    },
    {
      "cell_type": "code",
      "source": [
        "with open(\"/content/drive/MyDrive/102flowers/pkl-2/X_val.pkl\", \"rb\") as f:\n",
        "  X_val = pkl.load(f)\n",
        "with open(\"/content/drive/MyDrive/102flowers/pkl-2/y_val.pkl\", \"rb\") as f:\n",
        "  y_val = pkl.load(f)\n",
        "\n",
        "val_imgs = []\n",
        "for i, path in enumerate(X_val):\n",
        "  img = path.split('\\\\')[-1]\n",
        "  val_imgs.append(f\"/content/val/{y_val[i]}/{img}\")"
      ],
      "metadata": {
        "id": "0zCaZTaJkSrc"
      },
      "execution_count": 120,
      "outputs": []
    },
    {
      "cell_type": "code",
      "source": [
        "with open(\"/content/drive/MyDrive/102flowers/pkl-2/X_test.pkl\", \"rb\") as f:\n",
        "  X_test = pkl.load(f)\n",
        "with open(\"/content/drive/MyDrive/102flowers/pkl-2/y_test.pkl\", \"rb\") as f:\n",
        "  y_test = pkl.load(f)\n",
        "\n",
        "test_imgs = []\n",
        "for i, path in enumerate(X_test):\n",
        "  img = path.split('\\\\')[-1]\n",
        "  test_imgs.append(f\"/content/test/{y_test[i]}/{img}\")"
      ],
      "metadata": {
        "id": "_kjFWWfclxIp"
      },
      "execution_count": 121,
      "outputs": []
    },
    {
      "cell_type": "markdown",
      "metadata": {
        "id": "FLREdPnInAbQ"
      },
      "source": [
        "I will implement a generator class, instead of loading all the data to RAM."
      ]
    },
    {
      "cell_type": "code",
      "execution_count": 122,
      "metadata": {
        "id": "vqIQFMPLHIOZ"
      },
      "outputs": [],
      "source": [
        "class FlowersImagesGenerator(keras.utils.Sequence):\n",
        "\n",
        "  def __init__(self, images_paths, y, num_classes=102, batch_size=32, *args, **kwargs):\n",
        "    self.images_paths = images_paths\n",
        "    self.y = y\n",
        "    self.num_classes = num_classes\n",
        "    self.batch_size = batch_size\n",
        "\n",
        "  def __len__(self):\n",
        "    return (len(self.images_paths) // self.batch_size)\n",
        "\n",
        "  def __getitem__(self, index):\n",
        "    batch_images = self.images_paths[self.batch_size*index : self.batch_size*(index+1)]\n",
        "    y_batch = self.y[self.batch_size*index : self.batch_size*(index+1)]\n",
        "\n",
        "    X = [cv2.resize(cv2.imread(img_path)/255, (256,256)) for img_path in batch_images]\n",
        "    y_onehot = np.zeros((y_batch.shape[0], self.num_classes))\n",
        "    for i, val in enumerate(y_batch):\n",
        "      y_onehot[i, val - 1] = 1  # y classes are 1 to 102\n",
        "    return np.array(X), y_onehot"
      ]
    },
    {
      "cell_type": "code",
      "source": [
        "num_classes = 102"
      ],
      "metadata": {
        "id": "b-rcuQjTolSH"
      },
      "execution_count": 123,
      "outputs": []
    },
    {
      "cell_type": "markdown",
      "metadata": {
        "collapsed": false,
        "id": "20OjAQfJxhnN"
      },
      "source": [
        "# VGG19"
      ]
    },
    {
      "cell_type": "code",
      "execution_count": 124,
      "metadata": {
        "id": "-g2nPVtrxhnP"
      },
      "outputs": [],
      "source": [
        "vgg19 = keras.applications.vgg19.VGG19(\n",
        "    include_top=False,\n",
        "    weights='imagenet',\n",
        "    input_shape=(256, 256, 3),\n",
        "    classes=num_classes,\n",
        "    classifier_activation='softmax')"
      ]
    },
    {
      "cell_type": "code",
      "execution_count": 125,
      "metadata": {
        "id": "nwEMVoTcxhnS"
      },
      "outputs": [],
      "source": [
        "for layer in vgg19.layers:\n",
        "  layer.trainable = False"
      ]
    },
    {
      "cell_type": "code",
      "execution_count": 126,
      "metadata": {
        "id": "xcT4sVxexhnS"
      },
      "outputs": [],
      "source": [
        "out = Flatten()(vgg19.output)\n",
        "out = Dense(4096, activation='relu', name=\"fc1\")(out)\n",
        "out = Dense(4096, activation='relu', name=\"fc2\")(out)\n",
        "predictions = Dense(num_classes, activation='softmax', name=\"predictions\")(out)\n",
        "model = Model(inputs=vgg19.input, outputs=predictions)"
      ]
    },
    {
      "cell_type": "code",
      "execution_count": 127,
      "metadata": {
        "colab": {
          "base_uri": "https://localhost:8080/"
        },
        "id": "8oXe1rqbxhnT",
        "outputId": "4d1efcca-9a7b-4e6c-90d3-827f3fbff0cf"
      },
      "outputs": [
        {
          "output_type": "stream",
          "name": "stdout",
          "text": [
            "Model: \"model_6\"\n",
            "_________________________________________________________________\n",
            " Layer (type)                Output Shape              Param #   \n",
            "=================================================================\n",
            " input_7 (InputLayer)        [(None, 256, 256, 3)]     0         \n",
            "                                                                 \n",
            " block1_conv1 (Conv2D)       (None, 256, 256, 64)      1792      \n",
            "                                                                 \n",
            " block1_conv2 (Conv2D)       (None, 256, 256, 64)      36928     \n",
            "                                                                 \n",
            " block1_pool (MaxPooling2D)  (None, 128, 128, 64)      0         \n",
            "                                                                 \n",
            " block2_conv1 (Conv2D)       (None, 128, 128, 128)     73856     \n",
            "                                                                 \n",
            " block2_conv2 (Conv2D)       (None, 128, 128, 128)     147584    \n",
            "                                                                 \n",
            " block2_pool (MaxPooling2D)  (None, 64, 64, 128)       0         \n",
            "                                                                 \n",
            " block3_conv1 (Conv2D)       (None, 64, 64, 256)       295168    \n",
            "                                                                 \n",
            " block3_conv2 (Conv2D)       (None, 64, 64, 256)       590080    \n",
            "                                                                 \n",
            " block3_conv3 (Conv2D)       (None, 64, 64, 256)       590080    \n",
            "                                                                 \n",
            " block3_conv4 (Conv2D)       (None, 64, 64, 256)       590080    \n",
            "                                                                 \n",
            " block3_pool (MaxPooling2D)  (None, 32, 32, 256)       0         \n",
            "                                                                 \n",
            " block4_conv1 (Conv2D)       (None, 32, 32, 512)       1180160   \n",
            "                                                                 \n",
            " block4_conv2 (Conv2D)       (None, 32, 32, 512)       2359808   \n",
            "                                                                 \n",
            " block4_conv3 (Conv2D)       (None, 32, 32, 512)       2359808   \n",
            "                                                                 \n",
            " block4_conv4 (Conv2D)       (None, 32, 32, 512)       2359808   \n",
            "                                                                 \n",
            " block4_pool (MaxPooling2D)  (None, 16, 16, 512)       0         \n",
            "                                                                 \n",
            " block5_conv1 (Conv2D)       (None, 16, 16, 512)       2359808   \n",
            "                                                                 \n",
            " block5_conv2 (Conv2D)       (None, 16, 16, 512)       2359808   \n",
            "                                                                 \n",
            " block5_conv3 (Conv2D)       (None, 16, 16, 512)       2359808   \n",
            "                                                                 \n",
            " block5_conv4 (Conv2D)       (None, 16, 16, 512)       2359808   \n",
            "                                                                 \n",
            " block5_pool (MaxPooling2D)  (None, 8, 8, 512)         0         \n",
            "                                                                 \n",
            " flatten_6 (Flatten)         (None, 32768)             0         \n",
            "                                                                 \n",
            " fc1 (Dense)                 (None, 4096)              134221824 \n",
            "                                                                 \n",
            " fc2 (Dense)                 (None, 4096)              16781312  \n",
            "                                                                 \n",
            " predictions (Dense)         (None, 102)               417894    \n",
            "                                                                 \n",
            "=================================================================\n",
            "Total params: 171,445,414\n",
            "Trainable params: 151,421,030\n",
            "Non-trainable params: 20,024,384\n",
            "_________________________________________________________________\n"
          ]
        }
      ],
      "source": [
        "model.summary()"
      ]
    },
    {
      "cell_type": "code",
      "execution_count": 128,
      "metadata": {
        "id": "sHOJ653xxhnT"
      },
      "outputs": [],
      "source": [
        "model.compile(loss='categorical_crossentropy',\n",
        "              optimizer=keras.optimizers.Adam(),\n",
        "              metrics=['accuracy'])"
      ]
    },
    {
      "cell_type": "markdown",
      "source": [
        "I will create a custom callback for logging the accuracy and loss on the test set in each epoch, as the instructions specify.  \n"
      ],
      "metadata": {
        "id": "zgzdCMCs-lTG"
      }
    },
    {
      "cell_type": "code",
      "source": [
        "class TestMetricsCallback(Callback):\n",
        "  def __init__(self):\n",
        "    self.epoch_test_loss = []\n",
        "    self.epoch_test_accuracy = []\n",
        "\n",
        "  def on_epoch_end(self, epoch, logs=None):\n",
        "    test_generator = FlowersImagesGenerator(images_paths=test_imgs, y=y_test)\n",
        "    loss, accuracy = self.model.evaluate(test_generator)\n",
        "    self.epoch_test_loss.append(loss)\n",
        "    self.epoch_test_accuracy.append(accuracy)"
      ],
      "metadata": {
        "id": "8ZzX27NRQK2G"
      },
      "execution_count": 129,
      "outputs": []
    },
    {
      "cell_type": "code",
      "execution_count": 130,
      "metadata": {
        "id": "3cQEpFWsrZUb"
      },
      "outputs": [],
      "source": [
        "train_generator = FlowersImagesGenerator(images_paths=train_imgs, y=y_train)\n",
        "val_generator = FlowersImagesGenerator(images_paths=val_imgs, y=y_val)"
      ]
    },
    {
      "cell_type": "code",
      "execution_count": 131,
      "metadata": {
        "colab": {
          "base_uri": "https://localhost:8080/"
        },
        "id": "TyyY-QpZxhnT",
        "outputId": "0b671197-0ec9-4472-f3ce-d9084068520b"
      },
      "outputs": [
        {
          "output_type": "stream",
          "name": "stdout",
          "text": [
            "Epoch 1/50\n",
            "64/64 [==============================] - 18s 287ms/step - loss: 2.6008 - accuracy: 0.3164\n",
            "127/127 - 80s - loss: 5.6719 - accuracy: 0.1590 - val_loss: 2.5496 - val_accuracy: 0.3338 - 80s/epoch - 632ms/step\n",
            "Epoch 2/50\n",
            "64/64 [==============================] - 19s 295ms/step - loss: 1.7943 - accuracy: 0.5200\n",
            "127/127 - 76s - loss: 1.6521 - accuracy: 0.5490 - val_loss: 1.6688 - val_accuracy: 0.5427 - 76s/epoch - 597ms/step\n",
            "Epoch 3/50\n",
            "64/64 [==============================] - 18s 286ms/step - loss: 1.5927 - accuracy: 0.5791\n",
            "127/127 - 77s - loss: 0.7896 - accuracy: 0.7603 - val_loss: 1.5344 - val_accuracy: 0.5898 - 77s/epoch - 608ms/step\n",
            "Epoch 4/50\n",
            "64/64 [==============================] - 19s 296ms/step - loss: 1.6148 - accuracy: 0.6050\n",
            "127/127 - 74s - loss: 0.4260 - accuracy: 0.8691 - val_loss: 1.5834 - val_accuracy: 0.6190 - 74s/epoch - 585ms/step\n",
            "Epoch 5/50\n",
            "64/64 [==============================] - 18s 285ms/step - loss: 1.8181 - accuracy: 0.5996\n",
            "127/127 - 75s - loss: 0.2242 - accuracy: 0.9284 - val_loss: 1.8444 - val_accuracy: 0.5992 - 75s/epoch - 588ms/step\n",
            "Epoch 6/50\n",
            "64/64 [==============================] - 19s 298ms/step - loss: 2.0145 - accuracy: 0.5776\n",
            "127/127 - 81s - loss: 0.1672 - accuracy: 0.9469 - val_loss: 2.0264 - val_accuracy: 0.5972 - 81s/epoch - 635ms/step\n",
            "Epoch 7/50\n",
            "64/64 [==============================] - 19s 288ms/step - loss: 2.3455 - accuracy: 0.5894\n",
            "127/127 - 76s - loss: 0.1138 - accuracy: 0.9633 - val_loss: 2.3049 - val_accuracy: 0.5818 - 76s/epoch - 600ms/step\n",
            "Epoch 8/50\n",
            "64/64 [==============================] - 18s 281ms/step - loss: 2.7704 - accuracy: 0.5459\n",
            "127/127 - 78s - loss: 0.1333 - accuracy: 0.9594 - val_loss: 2.6137 - val_accuracy: 0.5595 - 78s/epoch - 613ms/step\n",
            "Epoch 9/50\n",
            "64/64 [==============================] - 19s 286ms/step - loss: 2.1627 - accuracy: 0.5889\n",
            "127/127 - 72s - loss: 0.1570 - accuracy: 0.9491 - val_loss: 2.2724 - val_accuracy: 0.6037 - 72s/epoch - 570ms/step\n",
            "Epoch 10/50\n",
            "64/64 [==============================] - 18s 276ms/step - loss: 2.6631 - accuracy: 0.5728\n",
            "127/127 - 73s - loss: 0.1345 - accuracy: 0.9606 - val_loss: 2.6582 - val_accuracy: 0.5665 - 73s/epoch - 574ms/step\n",
            "Epoch 11/50\n",
            "64/64 [==============================] - 18s 277ms/step - loss: 2.1851 - accuracy: 0.5869\n",
            "127/127 - 75s - loss: 0.1679 - accuracy: 0.9444 - val_loss: 2.1594 - val_accuracy: 0.6042 - 75s/epoch - 587ms/step\n",
            "Epoch 12/50\n",
            "64/64 [==============================] - 19s 293ms/step - loss: 2.2368 - accuracy: 0.6128\n",
            "127/127 - 74s - loss: 0.0789 - accuracy: 0.9744 - val_loss: 2.3093 - val_accuracy: 0.6166 - 74s/epoch - 584ms/step\n",
            "Epoch 13/50\n",
            "64/64 [==============================] - 18s 275ms/step - loss: 2.5882 - accuracy: 0.5786\n",
            "127/127 - 74s - loss: 0.0842 - accuracy: 0.9744 - val_loss: 2.3954 - val_accuracy: 0.6101 - 74s/epoch - 582ms/step\n",
            "Epoch 14/50\n",
            "64/64 [==============================] - 18s 278ms/step - loss: 2.9942 - accuracy: 0.5415\n",
            "127/127 - 73s - loss: 0.0801 - accuracy: 0.9756 - val_loss: 2.9403 - val_accuracy: 0.5471 - 73s/epoch - 575ms/step\n",
            "Epoch 15/50\n",
            "64/64 [==============================] - 20s 303ms/step - loss: 3.6290 - accuracy: 0.5215\n",
            "127/127 - 73s - loss: 0.1736 - accuracy: 0.9473 - val_loss: 3.5770 - val_accuracy: 0.5218 - 73s/epoch - 578ms/step\n",
            "Epoch 16/50\n",
            "64/64 [==============================] - 18s 281ms/step - loss: 2.4692 - accuracy: 0.5967\n",
            "127/127 - 75s - loss: 0.1758 - accuracy: 0.9515 - val_loss: 2.4925 - val_accuracy: 0.5933 - 75s/epoch - 589ms/step\n",
            "Epoch 17/50\n",
            "64/64 [==============================] - 18s 273ms/step - loss: 2.2966 - accuracy: 0.6362\n",
            "127/127 - 72s - loss: 0.0377 - accuracy: 0.9865 - val_loss: 2.2553 - val_accuracy: 0.6389 - 72s/epoch - 569ms/step\n",
            "Epoch 18/50\n",
            "64/64 [==============================] - 18s 279ms/step - loss: 2.5796 - accuracy: 0.6162\n",
            "127/127 - 75s - loss: 0.0661 - accuracy: 0.9803 - val_loss: 2.5206 - val_accuracy: 0.6300 - 75s/epoch - 589ms/step\n",
            "Epoch 19/50\n",
            "64/64 [==============================] - 18s 273ms/step - loss: 2.2290 - accuracy: 0.6499\n",
            "127/127 - 72s - loss: 0.0240 - accuracy: 0.9934 - val_loss: 2.1831 - val_accuracy: 0.6617 - 72s/epoch - 565ms/step\n",
            "Epoch 20/50\n",
            "64/64 [==============================] - 18s 279ms/step - loss: 3.0956 - accuracy: 0.5610\n",
            "127/127 - 74s - loss: 0.1782 - accuracy: 0.9528 - val_loss: 3.0418 - val_accuracy: 0.5615 - 74s/epoch - 583ms/step\n",
            "Epoch 21/50\n",
            "64/64 [==============================] - 18s 279ms/step - loss: 2.6339 - accuracy: 0.6040\n",
            "127/127 - 74s - loss: 0.2604 - accuracy: 0.9284 - val_loss: 2.6719 - val_accuracy: 0.5947 - 74s/epoch - 583ms/step\n",
            "Epoch 22/50\n",
            "64/64 [==============================] - 19s 289ms/step - loss: 2.8726 - accuracy: 0.6016\n",
            "127/127 - 76s - loss: 0.1270 - accuracy: 0.9633 - val_loss: 2.9198 - val_accuracy: 0.5813 - 76s/epoch - 599ms/step\n",
            "Epoch 23/50\n",
            "64/64 [==============================] - 18s 274ms/step - loss: 2.8690 - accuracy: 0.6016\n",
            "127/127 - 71s - loss: 0.0720 - accuracy: 0.9754 - val_loss: 3.0724 - val_accuracy: 0.6002 - 71s/epoch - 559ms/step\n",
            "Epoch 24/50\n",
            "64/64 [==============================] - 18s 286ms/step - loss: 2.7259 - accuracy: 0.6191\n",
            "127/127 - 77s - loss: 0.1503 - accuracy: 0.9547 - val_loss: 2.6572 - val_accuracy: 0.6190 - 77s/epoch - 607ms/step\n",
            "Epoch 25/50\n",
            "64/64 [==============================] - 18s 275ms/step - loss: 2.9348 - accuracy: 0.6030\n",
            "127/127 - 74s - loss: 0.0907 - accuracy: 0.9719 - val_loss: 2.9970 - val_accuracy: 0.5942 - 74s/epoch - 584ms/step\n",
            "Epoch 26/50\n",
            "64/64 [==============================] - 17s 269ms/step - loss: 2.6751 - accuracy: 0.6372\n",
            "127/127 - 71s - loss: 0.0599 - accuracy: 0.9783 - val_loss: 2.5394 - val_accuracy: 0.6414 - 71s/epoch - 561ms/step\n",
            "Epoch 27/50\n",
            "64/64 [==============================] - 19s 298ms/step - loss: 2.7050 - accuracy: 0.6406\n",
            "127/127 - 75s - loss: 0.0098 - accuracy: 0.9966 - val_loss: 2.7027 - val_accuracy: 0.6265 - 75s/epoch - 588ms/step\n",
            "Epoch 28/50\n",
            "64/64 [==============================] - 18s 274ms/step - loss: 2.4321 - accuracy: 0.6567\n",
            "127/127 - 74s - loss: 0.0023 - accuracy: 0.9998 - val_loss: 2.3830 - val_accuracy: 0.6562 - 74s/epoch - 583ms/step\n",
            "Epoch 29/50\n",
            "64/64 [==============================] - 19s 287ms/step - loss: 2.3710 - accuracy: 0.6680\n",
            "127/127 - 76s - loss: 0.0020 - accuracy: 0.9995 - val_loss: 2.3589 - val_accuracy: 0.6607 - 76s/epoch - 602ms/step\n",
            "Epoch 30/50\n",
            "64/64 [==============================] - 18s 281ms/step - loss: 2.3653 - accuracy: 0.6675\n",
            "127/127 - 75s - loss: 0.0010 - accuracy: 0.9995 - val_loss: 2.3106 - val_accuracy: 0.6657 - 75s/epoch - 594ms/step\n",
            "Epoch 31/50\n",
            "64/64 [==============================] - 18s 281ms/step - loss: 2.3973 - accuracy: 0.6680\n",
            "127/127 - 75s - loss: 8.1620e-04 - accuracy: 0.9998 - val_loss: 2.3927 - val_accuracy: 0.6627 - 75s/epoch - 593ms/step\n",
            "Epoch 32/50\n",
            "64/64 [==============================] - 18s 272ms/step - loss: 2.3710 - accuracy: 0.6655\n",
            "127/127 - 71s - loss: 8.7774e-04 - accuracy: 0.9995 - val_loss: 2.3453 - val_accuracy: 0.6662 - 71s/epoch - 560ms/step\n",
            "Epoch 33/50\n",
            "64/64 [==============================] - 19s 293ms/step - loss: 2.3484 - accuracy: 0.6680\n",
            "127/127 - 76s - loss: 7.7184e-04 - accuracy: 0.9998 - val_loss: 2.2956 - val_accuracy: 0.6701 - 76s/epoch - 598ms/step\n",
            "Epoch 34/50\n",
            "64/64 [==============================] - 18s 280ms/step - loss: 2.3741 - accuracy: 0.6675\n",
            "127/127 - 76s - loss: 0.0010 - accuracy: 0.9995 - val_loss: 2.3300 - val_accuracy: 0.6682 - 76s/epoch - 602ms/step\n",
            "Epoch 35/50\n",
            "64/64 [==============================] - 18s 280ms/step - loss: 2.3573 - accuracy: 0.6719\n",
            "127/127 - 73s - loss: 8.8073e-04 - accuracy: 0.9995 - val_loss: 2.3013 - val_accuracy: 0.6632 - 73s/epoch - 578ms/step\n",
            "Epoch 36/50\n",
            "64/64 [==============================] - 20s 314ms/step - loss: 2.4053 - accuracy: 0.6699\n",
            "127/127 - 75s - loss: 7.0918e-04 - accuracy: 0.9998 - val_loss: 2.4008 - val_accuracy: 0.6587 - 75s/epoch - 591ms/step\n",
            "Epoch 37/50\n",
            "64/64 [==============================] - 18s 285ms/step - loss: 2.3260 - accuracy: 0.6699\n",
            "127/127 - 77s - loss: 6.0366e-04 - accuracy: 0.9998 - val_loss: 2.2768 - val_accuracy: 0.6696 - 77s/epoch - 610ms/step\n",
            "Epoch 38/50\n",
            "64/64 [==============================] - 18s 286ms/step - loss: 2.3731 - accuracy: 0.6680\n",
            "127/127 - 76s - loss: 8.7507e-04 - accuracy: 0.9995 - val_loss: 2.3181 - val_accuracy: 0.6642 - 76s/epoch - 597ms/step\n",
            "Epoch 39/50\n",
            "64/64 [==============================] - 18s 282ms/step - loss: 2.4137 - accuracy: 0.6680\n",
            "127/127 - 73s - loss: 0.0012 - accuracy: 0.9995 - val_loss: 2.3403 - val_accuracy: 0.6691 - 73s/epoch - 572ms/step\n",
            "Epoch 40/50\n",
            "64/64 [==============================] - 18s 282ms/step - loss: 2.3884 - accuracy: 0.6792\n",
            "127/127 - 75s - loss: 0.0017 - accuracy: 0.9998 - val_loss: 2.3522 - val_accuracy: 0.6627 - 75s/epoch - 594ms/step\n",
            "Epoch 41/50\n",
            "64/64 [==============================] - 19s 299ms/step - loss: 2.5866 - accuracy: 0.6597\n",
            "127/127 - 75s - loss: 0.0012 - accuracy: 0.9998 - val_loss: 2.5642 - val_accuracy: 0.6572 - 75s/epoch - 593ms/step\n",
            "Epoch 42/50\n",
            "64/64 [==============================] - 18s 276ms/step - loss: 2.5963 - accuracy: 0.6509\n",
            "127/127 - 72s - loss: 0.0035 - accuracy: 0.9998 - val_loss: 2.5881 - val_accuracy: 0.6548 - 72s/epoch - 567ms/step\n",
            "Epoch 43/50\n",
            "64/64 [==============================] - 18s 285ms/step - loss: 2.6082 - accuracy: 0.5869\n",
            "127/127 - 73s - loss: 0.8508 - accuracy: 0.8268 - val_loss: 2.6728 - val_accuracy: 0.5675 - 73s/epoch - 577ms/step\n",
            "Epoch 44/50\n",
            "64/64 [==============================] - 19s 292ms/step - loss: 2.5163 - accuracy: 0.6177\n",
            "127/127 - 72s - loss: 0.1952 - accuracy: 0.9412 - val_loss: 2.6988 - val_accuracy: 0.6096 - 72s/epoch - 568ms/step\n",
            "Epoch 45/50\n",
            "64/64 [==============================] - 19s 288ms/step - loss: 2.6108 - accuracy: 0.6357\n",
            "127/127 - 75s - loss: 0.0528 - accuracy: 0.9833 - val_loss: 2.6118 - val_accuracy: 0.6384 - 75s/epoch - 587ms/step\n",
            "Epoch 46/50\n",
            "64/64 [==============================] - 18s 279ms/step - loss: 2.8996 - accuracy: 0.6094\n",
            "127/127 - 73s - loss: 0.0518 - accuracy: 0.9820 - val_loss: 2.8464 - val_accuracy: 0.6121 - 73s/epoch - 572ms/step\n",
            "Epoch 47/50\n",
            "64/64 [==============================] - 18s 280ms/step - loss: 3.1270 - accuracy: 0.6074\n",
            "127/127 - 73s - loss: 0.0781 - accuracy: 0.9781 - val_loss: 3.0471 - val_accuracy: 0.6121 - 73s/epoch - 572ms/step\n",
            "Epoch 48/50\n",
            "64/64 [==============================] - 18s 282ms/step - loss: 2.8571 - accuracy: 0.6396\n",
            "127/127 - 76s - loss: 0.0318 - accuracy: 0.9909 - val_loss: 2.7671 - val_accuracy: 0.6508 - 76s/epoch - 602ms/step\n",
            "Epoch 49/50\n",
            "64/64 [==============================] - 18s 278ms/step - loss: 3.0801 - accuracy: 0.6455\n",
            "127/127 - 77s - loss: 0.0233 - accuracy: 0.9943 - val_loss: 3.0100 - val_accuracy: 0.6409 - 77s/epoch - 608ms/step\n",
            "Epoch 50/50\n",
            "64/64 [==============================] - 18s 277ms/step - loss: 2.7553 - accuracy: 0.6621\n",
            "127/127 - 75s - loss: 0.0026 - accuracy: 0.9990 - val_loss: 2.7092 - val_accuracy: 0.6647 - 75s/epoch - 593ms/step\n"
          ]
        }
      ],
      "source": [
        "early_stop_callback = EarlyStopping(monitor='val_loss', mode='min')\n",
        "test_metrics_callback = TestMetricsCallback()\n",
        "history = model.fit(train_generator, validation_data=val_generator, epochs=50,\n",
        "                    callbacks=[test_metrics_callback], verbose=2)"
      ]
    },
    {
      "cell_type": "code",
      "source": [
        "test_metrics_callback.epoch_test_accuracy[-1]"
      ],
      "metadata": {
        "colab": {
          "base_uri": "https://localhost:8080/"
        },
        "id": "wKo6aARKM9ac",
        "outputId": "98b8fe05-7342-4dde-b9eb-de7c5207362f"
      },
      "execution_count": 132,
      "outputs": [
        {
          "output_type": "execute_result",
          "data": {
            "text/plain": [
              "0.662109375"
            ]
          },
          "metadata": {},
          "execution_count": 132
        }
      ]
    },
    {
      "cell_type": "code",
      "execution_count": 133,
      "metadata": {
        "colab": {
          "base_uri": "https://localhost:8080/",
          "height": 449
        },
        "id": "LfOGUbMwsOYm",
        "outputId": "17f07cdc-912d-49c4-f85e-4f0eba86c116"
      },
      "outputs": [
        {
          "output_type": "display_data",
          "data": {
            "text/plain": [
              "<Figure size 640x480 with 1 Axes>"
            ],
            "image/png": "[encoded data removed]"
          },
          "metadata": {}
        }
      ],
      "source": [
        "pyplot.plot(history.history['accuracy'], label='train accuracy')\n",
        "pyplot.plot(history.history['val_accuracy'], label='val accuracy')\n",
        "pyplot.plot(test_metrics_callback.epoch_test_accuracy, label='test accuracy')\n",
        "pyplot.ylabel('accuracy')\n",
        "pyplot.xlabel('epoch')\n",
        "pyplot.legend(loc=\"upper right\")\n",
        "pyplot.show()"
      ]
    },
    {
      "cell_type": "code",
      "execution_count": 134,
      "metadata": {
        "colab": {
          "base_uri": "https://localhost:8080/",
          "height": 449
        },
        "id": "Wc2vA4DOrPlA",
        "outputId": "e67f2b18-59e0-49cc-991d-e7f552b8b7d5"
      },
      "outputs": [
        {
          "output_type": "display_data",
          "data": {
            "text/plain": [
              "<Figure size 640x480 with 1 Axes>"
            ],
            "image/png": "[encoded data removed]"
          },
          "metadata": {}
        }
      ],
      "source": [
        "pyplot.plot(history.history['loss'], label='train loss')\n",
        "pyplot.plot(history.history['val_loss'], label='val loss')\n",
        "pyplot.plot(test_metrics_callback.epoch_test_loss, label='test loss')\n",
        "pyplot.ylabel('loss')\n",
        "pyplot.xlabel('epoch')\n",
        "pyplot.legend(loc=\"upper right\")\n",
        "pyplot.show()"
      ]
    }
  ],
  "metadata": {
    "colab": {
      "provenance": [],
      "gpuType": "T4"
    },
    "kernelspec": {
      "display_name": "Python 3",
      "name": "python3"
    },
    "language_info": {
      "codemirror_mode": {
        "name": "ipython",
        "version": 2
      },
      "file_extension": ".py",
      "mimetype": "text/x-python",
      "name": "python",
      "nbconvert_exporter": "python",
      "pygments_lexer": "ipython2",
      "version": "2.7.6"
    },
    "accelerator": "GPU"
  },
  "nbformat": 4,
  "nbformat_minor": 0
}