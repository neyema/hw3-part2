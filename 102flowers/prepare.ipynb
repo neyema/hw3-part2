{
 "cells": [
  {
   "cell_type": "code",
   "execution_count": 1,
   "metadata": {
    "collapsed": true
   },
   "outputs": [],
   "source": [
    "import glob\n",
    "import os\n",
    "import pickle as pkl\n",
    "\n",
    "from sklearn.model_selection import train_test_split\n",
    "from scipy.io import loadmat\n",
    "from shutil import copyfile"
   ]
  },
  {
   "cell_type": "code",
   "execution_count": 2,
   "outputs": [],
   "source": [
    "paths = glob.glob(\"./102flowers/*\")"
   ],
   "metadata": {
    "collapsed": false
   }
  },
  {
   "cell_type": "code",
   "execution_count": 3,
   "outputs": [],
   "source": [
    "y = loadmat(\"./imagelabels.mat\")['labels'][0]"
   ],
   "metadata": {
    "collapsed": false
   }
  },
  {
   "cell_type": "code",
   "execution_count": 4,
   "outputs": [],
   "source": [
    "X_train, X_val_test, y_train, y_val_test = train_test_split(paths, y, test_size=0.5, random_state=33)\n",
    "X_val, X_test, y_val, y_test = train_test_split(X_val_test, y_val_test, test_size=0.5, random_state=33)"
   ],
   "metadata": {
    "collapsed": false
   }
  },
  {
   "cell_type": "code",
   "execution_count": 9,
   "outputs": [],
   "source": [
    "with open(\"./pkl/X_train.pkl\", \"wb\") as f:\n",
    "    pkl.dump(X_train, f)\n",
    "with open(\"./pkl/X_val.pkl\", \"wb\") as f:\n",
    "    pkl.dump(X_val, f)\n",
    "with open(\"./pkl/X_test.pkl\", \"wb\") as f:\n",
    "    pkl.dump(X_test, f)\n",
    "with open(\"./pkl/y_train.pkl\", \"wb\") as f:\n",
    "    pkl.dump(y_train, f)\n",
    "with open(\"./pkl/y_val.pkl\", \"wb\") as f:\n",
    "    pkl.dump(y_val, f)\n",
    "with open(\"./pkl/y_test.pkl\", \"wb\") as f:\n",
    "    pkl.dump(y_test, f)"
   ],
   "metadata": {
    "collapsed": false
   }
  },
  {
   "cell_type": "code",
   "execution_count": 10,
   "outputs": [],
   "source": [
    "for i, path in enumerate(X_train):\n",
    "    dst_dir = f\"./train/{y_train[i]}\"\n",
    "    os.makedirs(dst_dir, exist_ok=True)\n",
    "    img_name = path.split('\\\\')[-1]\n",
    "    copyfile(path, f\"{dst_dir}/{img_name}\")"
   ],
   "metadata": {
    "collapsed": false
   }
  },
  {
   "cell_type": "code",
   "execution_count": 11,
   "outputs": [],
   "source": [
    "for i, path in enumerate(X_val):\n",
    "    dst_dir = f\"./val/{y_val[i]}\"\n",
    "    os.makedirs(dst_dir, exist_ok=True)\n",
    "    img_name = path.split('\\\\')[-1]\n",
    "    copyfile(path, f\"{dst_dir}/{img_name}\")"
   ],
   "metadata": {
    "collapsed": false
   }
  },
  {
   "cell_type": "code",
   "execution_count": 12,
   "outputs": [],
   "source": [
    "for i, path in enumerate(X_test):\n",
    "    dst_dir = f\"./test/{y_test[i]}\"\n",
    "    os.makedirs(dst_dir, exist_ok=True)\n",
    "    img_name = path.split('\\\\')[-1]\n",
    "    copyfile(path, f\"{dst_dir}/{img_name}\")"
   ],
   "metadata": {
    "collapsed": false
   }
  }
 ],
 "metadata": {
  "kernelspec": {
   "display_name": "Python 3",
   "language": "python",
   "name": "python3"
  },
  "language_info": {
   "codemirror_mode": {
    "name": "ipython",
    "version": 2
   },
   "file_extension": ".py",
   "mimetype": "text/x-python",
   "name": "python",
   "nbconvert_exporter": "python",
   "pygments_lexer": "ipython2",
   "version": "2.7.6"
  }
 },
 "nbformat": 4,
 "nbformat_minor": 0
}
